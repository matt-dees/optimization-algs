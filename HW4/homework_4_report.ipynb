{
 "cells": [
  {
   "cell_type": "markdown",
   "metadata": {},
   "source": [
    "# Preface\n",
    "\n",
    "## Statistics\n",
    "\n",
    "All statistics are shown in the form $\\mu\\pm\\sigma$. Where $$\\mu = \\frac{1}{n} \\sum_{i=1}^{n} x_{i}$$ and $$\\sigma = \\sqrt{ \\frac{1}{n - 1} \\sum_{i = 1}^{n} (x_{i} - \\bar{x})^2}$$ The implementations for these can be found in **stats_generator.py** and immediately below."
   ]
  },
  {
   "cell_type": "code",
   "execution_count": 24,
   "metadata": {},
   "outputs": [],
   "source": [
    "@classmethod\n",
    "def unbiased_expected_value(cls, data):\n",
    "    if len(data) == 0:\n",
    "        return 0\n",
    "    return sum(data) / len(data)\n",
    "\n",
    "@classmethod\n",
    "def std_dev(cls, data):\n",
    "    if len(data) <= 1:\n",
    "        return 0\n",
    "    avg_val = cls.unbiased_expected_value(data)\n",
    "    variance_list = list(map(lambda x : (x - avg_val) ** 2, data))\n",
    "    bessel_correction = 1 / (len(data) - 1)\n",
    "    return math.sqrt(bessel_correction * sum(variance_list))"
   ]
  },
  {
   "cell_type": "markdown",
   "metadata": {},
   "source": [
    "# Problem 1\n",
    "\n",
    "## Constrained Linear Programming Comparison (2 algs.)\n",
    "\n",
    "I decided to use a custom problem I named \"FactoryTaxEmissionsProblem\" in which 10 factories are taxed on their output and are regulated by emission laws. The emission laws place constraints on how much product two neighboring factories can produce. For example, one such law might be that factories 1 and 2 can only produce 1600 combined units due to the emissions produced as byproducts. The goal of the problem is to determine the optimal number of units that each factory should produce given some emission constraints and tax values. The cost function represents the profit from the ten factories, where the number of units produced by each factory is multiplied by some modifier to represent the post-tax value. \n",
    "\n",
    "\n",
    "Formally, the cost function is defined as the following:\n",
    "$$C(\\bf{x}) = \\bf{c}^{T}\\bf{x}$$\n",
    "\n",
    "Where:\n",
    "\n",
    "$$ \\bf{c} = \\left\\lgroup \\matrix{.8 \\cr 1 \\cr .95 \\cr .72 \\cr .9 \\cr .87 \\cr .72 \\cr .82 \\cr .93 \\cr .67} \\right\\rgroup $$\n",
    "\n",
    "$$ \\bf{x} = \\left\\lgroup \\matrix{x_{1} \\cr x_{2} \\cr x_{3} \\cr x_{4} \\cr x_{5} \\cr x_{6} \\cr x_{7} \\cr x_{8} \\cr x_{9} \\cr x_{10}} \\right\\rgroup $$\n",
    "\n",
    "The constraints on the variables on the factory emissions:\n",
    "\n",
    "$$ x_{1} \\le 1000 $$\n",
    "$$ x_{2} \\le 1000 $$\n",
    "$$ x_{3} \\le 3000 $$\n",
    "$$ x_{4} \\le 1500 $$\n",
    "$$ x_{5} \\le 1600 $$\n",
    "$$ x_{6} \\le 750 $$\n",
    "$$ x_{7} \\le 2000 $$\n",
    "$$ x_{8} \\le 1100 $$\n",
    "$$ x_{9} \\le 500 $$\n",
    "$$ x_{10} \\le 350 $$\n",
    "$$ x_{1} + x_{2} \\le 1500 $$\n",
    "$$ x_{6} + x_{7} + x_{8} = 1800 $$\n",
    "\n",
    "I represented the constrained version of the problem using the Python class ConstrainedFactoryTaxProblem below using matrices for the equality contraints and for the inequality constrained as required by the scipy library."
   ]
  },
  {
   "cell_type": "code",
   "execution_count": 5,
   "metadata": {},
   "outputs": [],
   "source": [
    "import numpy\n",
    "\n",
    "FactoryCostCoefficients = [.8, 1, .95, .72, .9, .87, .72, .82, .93, .67]\n",
    "FactoryConstraints = [\n",
    "        1000, 1000, 3000, 1500, 1600, 750, 2000, 1100, 500, 350, 1500\n",
    "    ]\n",
    "\n",
    "\n",
    "class ConstrainedFactoryTaxProblem:\n",
    "    c = numpy.asarray(FactoryCostCoefficients) * -1\n",
    "    A_u = numpy.eye(10)\n",
    "    A_u = numpy.append(A_u, [[1, 1] + [0] * 8], axis=0)\n",
    "    b_u = FactoryConstraints\n",
    "\n",
    "    A_eq = numpy.zeros((10, 10))\n",
    "    A_eq[0] = [0] * 5 + [1, 1, 1, 0, 0]\n",
    "\n",
    "    b_eq = [1800] + [0] * 9"
   ]
  },
  {
   "cell_type": "markdown",
   "metadata": {},
   "source": [
    "I tested two versions of the scipy **optimize.linprog()** method and the **scipy.minimize()** method (unconstrained). The two constrained scipy methods were the **simplex** and **interior-point** methods. They were tested using the following Python code which ran each algorithm 1000 times. Note that the scipy API does not support providing a starting point."
   ]
  },
  {
   "cell_type": "code",
   "execution_count": 8,
   "metadata": {},
   "outputs": [
    {
     "name": "stdout",
     "output_type": "stream",
     "text": [
      "SCIPY SIMPLEX METHOD\n",
      "Avg. function value:  -8.98e+03±0.00e+00\n",
      "Avg. time value (ms):  3.95e+00±4.89e-01\n",
      "\n",
      "\n",
      "SCIPY INTERIOR-POINT METHOD\n",
      "Avg. function value:  -8.98e+03±2.24e-10\n",
      "Avg. time value (ms):  4.66e+00±2.60e-01\n",
      "\n",
      "\n"
     ]
    }
   ],
   "source": [
    "import stats_generator\n",
    "import scipy.optimize\n",
    "import time\n",
    "\n",
    "def test_scipy_method(method, iters):\n",
    "    test_results = []\n",
    "    for i in range(iters):\n",
    "        start = time.time()\n",
    "        res = scipy.optimize.linprog(c=ConstrainedFactoryTaxProblem.c, A_eq=ConstrainedFactoryTaxProblem.A_eq, b_eq=ConstrainedFactoryTaxProblem.b_eq,\n",
    "                                     A_ub=ConstrainedFactoryTaxProblem.A_u, b_ub=ConstrainedFactoryTaxProblem.b_u, method=method)\n",
    "        end = time.time()\n",
    "        test_results.append((res.fun, (end-start) * 1000))\n",
    "\n",
    "    func_vals = list(map(lambda x: x[0], test_results))\n",
    "    time_vals = list(map(lambda x: x[1], test_results))\n",
    "\n",
    "    return ((stats_generator.StatsGenerator.unbiased_expected_value(func_vals), stats_generator.StatsGenerator.std_dev(func_vals)),\n",
    "            (stats_generator.StatsGenerator.unbiased_expected_value(time_vals), stats_generator.StatsGenerator.std_dev((time_vals))))\n",
    "\n",
    "def print_stats(header, stats):\n",
    "    print(header)\n",
    "    print(\"Avg. function value: \", stats_generator.StatsGenerator.stats_to_string(stats[0]))\n",
    "    print(\"Avg. time value (ms): \", stats_generator.StatsGenerator.stats_to_string(stats[1]))\n",
    "    print(\"\\n\")\n",
    "    \n",
    "stats = test_scipy_method(\"simplex\", 1000)\n",
    "print_stats(\"SCIPY SIMPLEX METHOD\", stats)\n",
    "\n",
    "stats = test_scipy_method(\"interior-point\", 1000)\n",
    "print_stats(\"SCIPY INTERIOR-POINT METHOD\", stats)"
   ]
  },
  {
   "cell_type": "markdown",
   "metadata": {},
   "source": [
    "The simplex method achieved a more accurate optimal value in a shorter amount of time compared to the interior-point method. \n"
   ]
  },
  {
   "cell_type": "markdown",
   "metadata": {},
   "source": [
    "## Unconstrained Optimization with Penalties (1 alg.)\n",
    "\n",
    "To test the same problem with an unconstrained solver I wrote a new class with a cost() and penalty() function. The cost function is equivalent to that in the previous section, but with the addition of the penalty evaluation of the input vector $\\bf{x}$. "
   ]
  },
  {
   "cell_type": "code",
   "execution_count": 9,
   "metadata": {},
   "outputs": [],
   "source": [
    "class UnconstrainedFactoryProblem:\n",
    "    PUNISHMENT = 1e6\n",
    "\n",
    "    @staticmethod\n",
    "    def penalty(x):\n",
    "        total_penalty = 0\n",
    "        ## Greater than zero constraint\n",
    "        for i in range(len(x)):\n",
    "            total_penalty += UnconstrainedFactoryProblem.PUNISHMENT * min(x[i], 0) ** 2\n",
    "        ## LE constraints\n",
    "        # x < b\n",
    "        for i in range(len(x)):\n",
    "            total_penalty += UnconstrainedFactoryProblem.PUNISHMENT * max(0, x[i] - FactoryConstraints[i]) ** 2\n",
    "        # x_0 + x_ 1 <= 1500\n",
    "        total_penalty += UnconstrainedFactoryProblem.PUNISHMENT * max(0, x[0] + x[1] - 1500) ** 2\n",
    "\n",
    "        ## EQ constraints\n",
    "        fifth_factory_sum = x[5] + x[6] + x[7]\n",
    "        total_penalty += UnconstrainedFactoryProblem.PUNISHMENT * (fifth_factory_sum - 1800) ** 2\n",
    "        return total_penalty\n",
    "\n",
    "    @staticmethod\n",
    "    def cost(x):\n",
    "        return sum(numpy.asarray(FactoryCostCoefficients) * x * -1) + UnconstrainedFactoryProblem.penalty(x)"
   ]
  },
  {
   "cell_type": "markdown",
   "metadata": {},
   "source": [
    "The unconstrained optimizer from scipy was tested using 20 iterations of the **scipy.optimize.minimize()** function. The starting values were drawn from a uniform distribution \\[0, 3000\\). "
   ]
  },
  {
   "cell_type": "code",
   "execution_count": 10,
   "metadata": {},
   "outputs": [
    {
     "name": "stdout",
     "output_type": "stream",
     "text": [
      "TESTING UNCONSTRAINED METHOD: cg\n",
      "     fun: -8157.513800504918\n",
      "     jac: array([  -0.79998779,   -1.        ,   -0.95001221,   -0.7199707 ,\n",
      "         -0.90002441, -200.63995361, -200.4899292 , -200.58996582,\n",
      "         27.86889648,   -0.67004395])\n",
      " message: 'Maximum number of iterations has been exceeded.'\n",
      "    nfev: 120336\n",
      "     nit: 2000\n",
      "    njev: 10028\n",
      "  status: 1\n",
      " success: False\n",
      "       x: array([ 533.70959181,  965.57472274, 2150.64582249, 1499.9973562 ,\n",
      "       1599.54992783,  708.20695366,   85.74426971, 1006.04867674,\n",
      "        500.00001439,  349.90921623])\n",
      "SCIPY UNCONSTRAINED\n",
      "Avg. function value:  -7.96e+03±8.22e+02\n",
      "Avg. time value (ms):  3.21e+03±6.23e+02\n",
      "\n",
      "\n"
     ]
    }
   ],
   "source": [
    "def test_unconstrained_lp(method, iters):\n",
    "    print(\"TESTING UNCONSTRAINED METHOD:\", method)\n",
    "    test_results = []\n",
    "\n",
    "    for i in range(iters):\n",
    "        x0 = numpy.random.rand(10) * 3000\n",
    "        start = time.time()\n",
    "        res = scipy.optimize.minimize(UnconstrainedFactoryProblem.cost, x0=x0, method=method)\n",
    "        if i == 0:\n",
    "            print(res)\n",
    "        end = time.time()\n",
    "        test_results.append((res.fun, (end-start) * 1000))\n",
    "\n",
    "    func_vals = list(map(lambda x: x[0], test_results))\n",
    "    time_vals = list(map(lambda x: x[1], test_results))\n",
    "    return ((stats_generator.StatsGenerator.unbiased_expected_value(func_vals), stats_generator.StatsGenerator.std_dev(func_vals)),\n",
    "            (stats_generator.StatsGenerator.unbiased_expected_value(time_vals), stats_generator.StatsGenerator.std_dev((time_vals))))\n",
    "\n",
    "stats = test_unconstrained_lp(\"cg\", 20)\n",
    "print_stats(\"SCIPY UNCONSTRAINED\", stats)"
   ]
  },
  {
   "cell_type": "markdown",
   "metadata": {},
   "source": [
    "The unconstrained optimizer performed much worse than the two linear programming solvers from scipy with regards to both time and accuracy. I printed out one example output from the 20 iterations above."
   ]
  },
  {
   "cell_type": "markdown",
   "metadata": {},
   "source": [
    "# Problem 2\n",
    "\n",
    "## Quadratic Constrained Solver Comparison (2 algs.)"
   ]
  },
  {
   "cell_type": "markdown",
   "metadata": {},
   "source": [
    "For the quadratic programming problem I minimized the objective function $$C(x) = \\frac{1}{2}x^{T}Px + q^{T}x$$ constrained by the forms $$Gx \\le h$$ $$Ax = b$$"
   ]
  },
  {
   "cell_type": "markdown",
   "metadata": {},
   "source": [
    "This standard quadratic form assumes that $P$ is symmetric. Because of this I used a second variable $M$ and defined $P$ as $M^{T}M$. Where $M$ is defined as the following 10x10 matrix in Python using the numpy array function. $M$ is a randomly generated matrix with numbers spanning from 0 to 200."
   ]
  },
  {
   "cell_type": "code",
   "execution_count": 2,
   "metadata": {},
   "outputs": [],
   "source": [
    "from numpy import *\n",
    "\n",
    "M = array([[  80.69613754,  197.54341511,  186.43701167,   98.54964723,\n",
    "         164.37171838,    9.50579752,   68.145483  ,  154.00383058,\n",
    "         169.48552714,  172.72380941],\n",
    "       [  34.70433164,   16.60245971,   76.15190389,   18.15800297,\n",
    "         121.98984701,  194.74941502,   78.48914043,   24.55111931,\n",
    "           5.83971525,   21.34164605],\n",
    "       [  90.45237248,  109.9525822 ,  110.0320875 ,  102.38458083,\n",
    "         172.42295615,  161.35723648,  160.54410401,   76.91975236,\n",
    "          25.70611638,  115.44204323],\n",
    "       [ 158.14914377,  140.10941826,    6.97604024,   43.8955222 ,\n",
    "         145.93047681,  169.67423241,   54.50121987,   99.39273651,\n",
    "         168.20215549,  146.73845218],\n",
    "       [  90.21767006,  142.06945479,  198.43810048,  177.15544106,\n",
    "         167.29301826,   72.94240731,   53.68668631,  126.99782335,\n",
    "          28.50310634,   71.66276249],\n",
    "       [  14.58114404,   46.01701953,  117.31195745,  105.13531344,\n",
    "           3.60907301,   28.51901317,  189.24300084,  129.21358421,\n",
    "          45.8422409 ,  178.48013532],\n",
    "       [   1.73526545,  138.68711512,  144.87741972,  104.96990744,\n",
    "         197.14148281,   92.1795195 ,  179.73987467,  100.00951112,\n",
    "          54.96659061,  187.72828915],\n",
    "       [  75.26125141,  119.98781851,  171.30441459,   36.78236051,\n",
    "         140.79091813,  171.33580861,   48.52333065,  180.75702528,\n",
    "          80.90227772,  102.83179743],\n",
    "       [  47.2959556 ,  164.9578006 ,  123.84237216,  124.33504258,\n",
    "          84.47609066,   37.04529343,    6.96773132,  180.37474901,\n",
    "          10.7212393 ,   17.40343904],\n",
    "       [  87.77507908,  192.56951201,  186.84885636,  167.97170772,\n",
    "          67.2229434 ,  114.09052636,   21.56437041,    6.86327417,\n",
    "         131.5040131 ,  137.8434112 ]])"
   ]
  },
  {
   "cell_type": "markdown",
   "metadata": {},
   "source": [
    "Python definition for $P$:"
   ]
  },
  {
   "cell_type": "code",
   "execution_count": 3,
   "metadata": {},
   "outputs": [],
   "source": [
    "P = dot(M.T, M)"
   ]
  },
  {
   "cell_type": "markdown",
   "metadata": {},
   "source": [
    "Definiton for $q$ (10 x 1):"
   ]
  },
  {
   "cell_type": "code",
   "execution_count": 4,
   "metadata": {},
   "outputs": [],
   "source": [
    "q = dot(array([ 104.96545721,   89.52108804,  131.41880265,   48.0142488 ,\n",
    "        117.87025338,   71.49959947,  187.47670014,   95.15310958,\n",
    "        160.26497417,   73.06495801]), M).reshape((10,))"
   ]
  },
  {
   "cell_type": "markdown",
   "metadata": {},
   "source": [
    "The constraint matrix $G$ was synthesized using random values between 0 and 50. The constraint vector $h$ was generated using random values between 0 and 200. I decided not to use any equality constraints. Due to the complexity of the inequality constraints I decided not to enforce the > 0 constraint as advised in the textbook. The references for the algorithm also did not use this constraint."
   ]
  },
  {
   "cell_type": "code",
   "execution_count": 5,
   "metadata": {},
   "outputs": [],
   "source": [
    "G = array([[ 15.80329383,  37.23892782,  47.7786633 ,   9.19228381,\n",
    "         40.57733093,   9.90679605,  28.14676156,  39.32781356,\n",
    "         37.12118315,  15.87228955],\n",
    "       [ 43.27668213,  26.44885916,  41.42125893,  35.78354661,\n",
    "         29.94610786,   2.85057763,  30.25055607,  33.45756588,\n",
    "         46.38999009,  45.60324026],\n",
    "       [ 39.44298274,  45.06131374,  35.03604878,  42.17292742,\n",
    "         25.63598569,  24.64210732,   3.70977457,  20.5902921 ,\n",
    "          1.27951776,  28.67218038],\n",
    "       [ 45.65260265,  29.45461644,  45.97589935,  15.38474593,\n",
    "         16.37986728,  36.72102556,  45.93156277,  37.22686868,\n",
    "         40.22524935,   4.59660548],\n",
    "       [  4.04383479,  44.73317497,  26.82846191,  15.3392613 ,\n",
    "         30.79706094,  26.13894597,  13.59064127,  49.76311441,\n",
    "         25.02106243,   6.30114704],\n",
    "       [ 41.98628128,  25.9705214 ,  10.28335199,   2.77472287,\n",
    "          5.7108503 ,  23.45671499,   2.71313764,   3.7822363 ,\n",
    "         18.61527093,   4.42257031],\n",
    "       [ 27.76025925,  40.3914235 ,  43.67169401,  34.49917188,\n",
    "          2.00756052,  10.30928905,  38.53562056,   9.20011528,\n",
    "         11.82462632,  46.58849645],\n",
    "       [ 25.61764567,  36.31465585,  45.66559564,  48.96504435,\n",
    "         25.94750581,  36.26049   ,  24.46752968,  39.84317833,\n",
    "         16.31109554,  22.66888219],\n",
    "       [ 34.61476803,  17.50168948,  32.58135685,   0.10132606,\n",
    "         28.63538219,  42.87073243,  31.79667229,  13.60056144,\n",
    "         31.79662649,   8.5557422 ],\n",
    "       [ 44.59563999,   3.25900081,  36.96505858,  19.68861835,\n",
    "          8.53496148,  21.61004563,  35.50452822,  49.29895152,\n",
    "          3.30418814,  29.34439322]])"
   ]
  },
  {
   "cell_type": "code",
   "execution_count": 6,
   "metadata": {},
   "outputs": [],
   "source": [
    "h = array([  77.92369082,    1.57602341,   24.33257481,  121.40012023,\n",
    "        114.21005826,  185.20003602,   13.87404591,   82.31918607,\n",
    "        120.27771735,  103.28880513])"
   ]
  },
  {
   "cell_type": "markdown",
   "metadata": {},
   "source": [
    "I modeled the cost function using the following Python code:"
   ]
  },
  {
   "cell_type": "code",
   "execution_count": 7,
   "metadata": {},
   "outputs": [],
   "source": [
    "class QuadConstrained:\n",
    "\n",
    "    @staticmethod\n",
    "    def cost(x):\n",
    "        return .5 * x.T.dot(P).dot(x) + q.T.dot(x)"
   ]
  },
  {
   "cell_type": "markdown",
   "metadata": {},
   "source": [
    "I tested two methods from the **qpsolvers** package that can be found here: https://github.com/stephane-caron/qpsolvers. The implementations in this package were derived from the **quadprog** and **cvxopt** Python packages. In testing both methods I ran the solver 1,000 times on the above problem using the Python code shown below. Note that that the optimizers did not accept initial point parameters so I could not vary them."
   ]
  },
  {
   "cell_type": "code",
   "execution_count": 12,
   "metadata": {},
   "outputs": [],
   "source": [
    "import stats_generator\n",
    "import time\n",
    "import qpsolvers\n",
    "\n",
    "def test_constrained_quad_solver(method, iters):\n",
    "    results = []\n",
    "    for i in range(iters):\n",
    "        start = time.time()\n",
    "        res = qpsolvers.solve_qp(P, q, G, h, solver=method)\n",
    "        end = time.time()\n",
    "        results.append((QuadConstrained.cost(res), (end-start) * 1000))\n",
    "\n",
    "    func_vals = list(map(lambda x: x[0], results))\n",
    "    time_vals = list(map(lambda x: x[1], results))\n",
    "\n",
    "    return ((stats_generator.StatsGenerator.unbiased_expected_value(func_vals),\n",
    "             stats_generator.StatsGenerator.std_dev(func_vals)),\n",
    "            (stats_generator.StatsGenerator.unbiased_expected_value(time_vals),\n",
    "             stats_generator.StatsGenerator.std_dev((time_vals))))\n",
    "\n",
    "def print_stats(header, stats):\n",
    "    print(header)\n",
    "    print(\"Avg. function value: \", stats_generator.StatsGenerator.stats_to_string(stats[0]))\n",
    "    print(\"Avg. time value (ms): \", stats_generator.StatsGenerator.stats_to_string(stats[1]))\n",
    "    print(\"\\n\")"
   ]
  },
  {
   "cell_type": "markdown",
   "metadata": {},
   "source": [
    "Results for the **quadprog** method:"
   ]
  },
  {
   "cell_type": "code",
   "execution_count": 13,
   "metadata": {},
   "outputs": [
    {
     "name": "stdout",
     "output_type": "stream",
     "text": [
      "QPSOLVERS QUADPROG\n",
      "Avg. function value:  -6.64e+04±8.88e-10\n",
      "Avg. time value (ms):  4.88e-02±1.69e-02\n",
      "\n",
      "\n"
     ]
    }
   ],
   "source": [
    "stats = test_constrained_quad_solver(\"quadprog\", 1000)\n",
    "print_stats(\"QPSOLVERS QUADPROG\", stats)"
   ]
  },
  {
   "cell_type": "markdown",
   "metadata": {},
   "source": [
    "Results for the **cvxopt** method:"
   ]
  },
  {
   "cell_type": "code",
   "execution_count": 14,
   "metadata": {},
   "outputs": [
    {
     "name": "stdout",
     "output_type": "stream",
     "text": [
      "QPSOLVERS CVXOPT\n",
      "Avg. function value:  -6.64e+04±2.18e-10\n",
      "Avg. time value (ms):  8.99e-01±1.24e-01\n",
      "\n",
      "\n"
     ]
    }
   ],
   "source": [
    "stats = test_constrained_quad_solver(\"cvxopt\", 1000)\n",
    "print_stats(\"QPSOLVERS CVXOPT\", stats)"
   ]
  },
  {
   "cell_type": "markdown",
   "metadata": {},
   "source": [
    "Both methods were able to solve the problem rather quickly. The solutions were relatively consistent in both algorithms, however the **quadprog** method was able to find the solution quicker on average."
   ]
  },
  {
   "cell_type": "markdown",
   "metadata": {},
   "source": [
    "## Quadratic Unconstrained Solver Comparison (1 alg.)"
   ]
  },
  {
   "cell_type": "markdown",
   "metadata": {},
   "source": [
    "I modeled the unconstrained version of the quadratic problem above using the following class:"
   ]
  },
  {
   "cell_type": "code",
   "execution_count": 16,
   "metadata": {},
   "outputs": [],
   "source": [
    "class QuadUnconstrained:\n",
    "\n",
    "    @staticmethod\n",
    "    def penalty(x):\n",
    "        penalty = 0\n",
    "        for i in range(len(x)):\n",
    "            if x.dot(G[i]) > h[i]:\n",
    "                penalty += 1e5 * (x.dot(G[i]) - h[i]) ** 2\n",
    "        return penalty\n",
    "\n",
    "    @staticmethod\n",
    "    def cost(x):\n",
    "        return .5 * x.T.dot(P).dot(x) + q.T.dot(x) + QuadUnconstrained.penalty(x)"
   ]
  },
  {
   "cell_type": "markdown",
   "metadata": {},
   "source": [
    "For the penalty I used the function $(x_{i} - h_{i})^{2}$ to replicate the constraints as seen above. I ran the unconstrained solver 100 times using the following test code. I used 100 instead of 1,000 because the unconstrained solver took much longer to execute. The indices for the starting point were each drawn from a uniform distribution \\[0, 100\\)."
   ]
  },
  {
   "cell_type": "code",
   "execution_count": 22,
   "metadata": {},
   "outputs": [
    {
     "name": "stdout",
     "output_type": "stream",
     "text": [
      "OUTPUT FROM ITERATION: 0\n",
      "     fun: -66418.38694559212\n",
      "     jac: array([-104.91699219,  -63.32617188, -101.66113281,  -89.203125  ,\n",
      "        -74.88085938,   -8.546875  ,  -72.13378906,  -82.70605469,\n",
      "       -113.41113281, -113.73730469])\n",
      " message: 'Desired error not necessarily achieved due to precision loss.'\n",
      "    nfev: 32841\n",
      "     nit: 578\n",
      "    njev: 2735\n",
      "  status: 2\n",
      " success: False\n",
      "       x: array([ 0.89945467, -0.68431643,  0.21354664, -0.35873425, -0.24046906,\n",
      "       -0.25957474, -0.59294514, -0.2582278 , -0.27660128,  0.70369092])\n",
      "\n",
      "\n",
      "SCIPY UNCONSTRAINED STATISTICS\n",
      "Avg. function value:  -6.64e+04±5.85e-01\n",
      "Avg. time value (ms):  6.01e+02±1.24e+02\n",
      "\n",
      "\n"
     ]
    }
   ],
   "source": [
    "import numpy\n",
    "import scipy.optimize\n",
    "\n",
    "def test_unconstrained(method, iters):\n",
    "    test_results = []\n",
    "\n",
    "    for i in range(iters):\n",
    "        x0 = numpy.random.rand(10) * 100\n",
    "        start = time.time()\n",
    "        res = scipy.optimize.minimize(QuadUnconstrained.cost, x0=x0, method=method)\n",
    "        if i == 0:\n",
    "            print(\"OUTPUT FROM ITERATION:\", str(i))\n",
    "            print(res)\n",
    "        end = time.time()\n",
    "        test_results.append((res.fun, (end-start) * 1000))\n",
    "\n",
    "    func_vals = list(map(lambda x: x[0], test_results))\n",
    "    time_vals = list(map(lambda x: x[1], test_results))\n",
    "    return ((stats_generator.StatsGenerator.unbiased_expected_value(func_vals), stats_generator.StatsGenerator.std_dev(func_vals)),\n",
    "            (stats_generator.StatsGenerator.unbiased_expected_value(time_vals), stats_generator.StatsGenerator.std_dev((time_vals))))\n",
    "\n",
    "stats = test_unconstrained(\"cg\", 100)\n",
    "print()\n",
    "print()\n",
    "print_stats(\"SCIPY UNCONSTRAINED STATISTICS\", stats)"
   ]
  },
  {
   "cell_type": "markdown",
   "metadata": {},
   "source": [
    "I included an example output from one run iteration above under OUTPUT FROM ITERATION: X. The statistics for the solver can be observed after the line SCIPY UNCONSTRAINED STATISTICS. I tested the scipy conjugate gradient solver as in Problem 1.\n",
    "\n",
    "The unconstrained solver was able to achieve reasonable solutions, but took much longer to execute than the previous constrained solvers (600 ms on average compared to .048 \\[quadprog\\] and .889 \\[cvxopt\\]).\n",
    "\n",
    "\n"
   ]
  }
 ],
 "metadata": {
  "kernelspec": {
   "display_name": "Python 3",
   "language": "python",
   "name": "python3"
  },
  "language_info": {
   "codemirror_mode": {
    "name": "ipython",
    "version": 3
   },
   "file_extension": ".py",
   "mimetype": "text/x-python",
   "name": "python",
   "nbconvert_exporter": "python",
   "pygments_lexer": "ipython3",
   "version": "3.7.0"
  }
 },
 "nbformat": 4,
 "nbformat_minor": 2
}
