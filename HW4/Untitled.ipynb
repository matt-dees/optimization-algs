{
 "cells": [
  {
   "cell_type": "markdown",
   "metadata": {},
   "source": [
    "# Problem 1\n",
    "\n",
    "I decided to use a custom problem I named \"FactoryTaxEmissionsProblem\" in which 10 factories are taxed on their output and are regulated by emission laws. The emission laws place constraints on how much product two neighboring factories can produce. For example, one such law might be that factories 1 and 2 can only produce 1600 combined units due to the emissions produced as byproducts. The goal of the problem is to determine the optimal number of units that each factory should produce given some emission constraints and tax values. The cost function represents the profit from the ten factories, where the number of units produced by each factory is multiplied by some modifier to represent the post-tax value. \n",
    "\n",
    "\n",
    "Formally, the cost function is defined as the following:\n",
    "$$C(\\bf{x}) = \\bf{c}^{T}\\bf{x}$$\n",
    "\n",
    "Where:\n",
    "\n",
    "$$ \\bf{c} = \\left\\lgroup \\matrix{.8 \\cr 1 \\cr .95 \\cr .72 \\cr .9 \\cr .87 \\cr .72 \\cr .82 \\cr .93 \\cr .67} \\right\\rgroup $$\n",
    "\n",
    "$$ \\bf{x} = \\left\\lgroup \\matrix{x_{1} \\cr x_{2} \\cr x_{3} \\cr x_{4} \\cr x_{5} \\cr x_{6} \\cr x_{7} \\cr x_{8} \\cr x_{9} \\cr x_{10}} \\right\\rgroup $$\n",
    "\n",
    "The constraints on the variables on the factory emissions:\n",
    "\n",
    "$$ x_{1} \\le 1000 $$\n",
    "$$ x_{2} \\le 1000 $$\n",
    "$$ x_{3} \\le 3000 $$\n",
    "$$ x_{4} \\le 1500 $$\n",
    "$$ x_{5} \\le 1600 $$\n",
    "$$ x_{6} \\le 750 $$\n",
    "$$ x_{7} \\le 2000 $$\n",
    "$$ x_{8} \\le 1100 $$\n",
    "$$ x_{9} \\le 500 $$\n",
    "$$ x_{10} \\le 350 $$\n",
    "$$ x_{1} + x_{2} \\le 1500 $$\n",
    "$$ x_{6} + x_{7} + x_{8} = 1800 $$\n",
    "\n",
    "I represented the constrained version of the problem using the Python class ConstrainedFactoryTaxProblem below using matrices for the equality contraints and for the inequality constrained as required by the scipy library."
   ]
  },
  {
   "cell_type": "code",
   "execution_count": 5,
   "metadata": {},
   "outputs": [],
   "source": [
    "import numpy\n",
    "\n",
    "FactoryCostCoefficients = [.8, 1, .95, .72, .9, .87, .72, .82, .93, .67]\n",
    "FactoryConstraints = [\n",
    "        1000, 1000, 3000, 1500, 1600, 750, 2000, 1100, 500, 350, 1500\n",
    "    ]\n",
    "\n",
    "\n",
    "class ConstrainedFactoryTaxProblem:\n",
    "    c = numpy.asarray(FactoryCostCoefficients) * -1\n",
    "    A_u = numpy.eye(10)\n",
    "    A_u = numpy.append(A_u, [[1, 1] + [0] * 8], axis=0)\n",
    "    b_u = FactoryConstraints\n",
    "\n",
    "    A_eq = numpy.zeros((10, 10))\n",
    "    A_eq[0] = [0] * 5 + [1, 1, 1, 0, 0]\n",
    "\n",
    "    b_eq = [1800] + [0] * 9"
   ]
  },
  {
   "cell_type": "markdown",
   "metadata": {},
   "source": [
    "I tested two versions of the scipy **optimize.linprog()** method and the **scipy.minimize()** method (unconstrained). The two constrained scipy methods were the simplex and interior-point methods. They were tested using the following Python code."
   ]
  },
  {
   "cell_type": "code",
   "execution_count": 8,
   "metadata": {},
   "outputs": [
    {
     "name": "stdout",
     "output_type": "stream",
     "text": [
      "SCIPY SIMPLEX METHOD\n",
      "Avg. function value:  -8.98e+03±0.00e+00\n",
      "Avg. time value (ms):  3.95e+00±4.89e-01\n",
      "\n",
      "\n",
      "SCIPY INTERIOR-POINT METHOD\n",
      "Avg. function value:  -8.98e+03±2.24e-10\n",
      "Avg. time value (ms):  4.66e+00±2.60e-01\n",
      "\n",
      "\n"
     ]
    }
   ],
   "source": [
    "import stats_generator\n",
    "import scipy.optimize\n",
    "import time\n",
    "\n",
    "def test_scipy_method(method, iters):\n",
    "    test_results = []\n",
    "    for i in range(iters):\n",
    "        start = time.time()\n",
    "        res = scipy.optimize.linprog(c=ConstrainedFactoryTaxProblem.c, A_eq=ConstrainedFactoryTaxProblem.A_eq, b_eq=ConstrainedFactoryTaxProblem.b_eq,\n",
    "                                     A_ub=ConstrainedFactoryTaxProblem.A_u, b_ub=ConstrainedFactoryTaxProblem.b_u, method=method)\n",
    "        end = time.time()\n",
    "        test_results.append((res.fun, (end-start) * 1000))\n",
    "\n",
    "    func_vals = list(map(lambda x: x[0], test_results))\n",
    "    time_vals = list(map(lambda x: x[1], test_results))\n",
    "\n",
    "    return ((stats_generator.StatsGenerator.unbiased_expected_value(func_vals), stats_generator.StatsGenerator.std_dev(func_vals)),\n",
    "            (stats_generator.StatsGenerator.unbiased_expected_value(time_vals), stats_generator.StatsGenerator.std_dev((time_vals))))\n",
    "\n",
    "def print_stats(header, stats):\n",
    "    print(header)\n",
    "    print(\"Avg. function value: \", stats_generator.StatsGenerator.stats_to_string(stats[0]))\n",
    "    print(\"Avg. time value (ms): \", stats_generator.StatsGenerator.stats_to_string(stats[1]))\n",
    "    print(\"\\n\")\n",
    "    \n",
    "stats = test_scipy_method(\"simplex\", 1000)\n",
    "print_stats(\"SCIPY SIMPLEX METHOD\", stats)\n",
    "\n",
    "stats = test_scipy_method(\"interior-point\", 1000)\n",
    "print_stats(\"SCIPY INTERIOR-POINT METHOD\", stats)"
   ]
  },
  {
   "cell_type": "markdown",
   "metadata": {},
   "source": [
    "The simplex method achieved a more accuracte optimal value in a shorter amount of time compared to the interior-point method."
   ]
  },
  {
   "cell_type": "code",
   "execution_count": null,
   "metadata": {},
   "outputs": [],
   "source": []
  }
 ],
 "metadata": {
  "kernelspec": {
   "display_name": "Python 3",
   "language": "python",
   "name": "python3"
  },
  "language_info": {
   "codemirror_mode": {
    "name": "ipython",
    "version": 3
   },
   "file_extension": ".py",
   "mimetype": "text/x-python",
   "name": "python",
   "nbconvert_exporter": "python",
   "pygments_lexer": "ipython3",
   "version": "3.7.0"
  }
 },
 "nbformat": 4,
 "nbformat_minor": 2
}
